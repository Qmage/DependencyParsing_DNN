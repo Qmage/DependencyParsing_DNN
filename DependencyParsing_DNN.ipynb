{
 "cells": [
  {
   "cell_type": "markdown",
   "metadata": {
    "slideshow": {
     "slide_type": "slide"
    }
   },
   "source": [
    "# A Dependency Parser with deep neural network"
   ]
  },
  {
   "cell_type": "markdown",
   "metadata": {
    "slideshow": {
     "slide_type": "slide"
    }
   },
   "source": [
    "## Creating Vocabulary from the training data\n",
    "First we should read from data file. The data looks like the following\n",
    "```txt\n",
    "Two     NUM\n",
    "of      ADP\n",
    "them    PRON\n",
    "were    AUX\n",
    "being   AUX\n",
    "run     VERB\n",
    "by      ADP\n",
    "2       NUM\n",
    "officials       NOUN\n",
    "of      ADP\n",
    "the     DET\n",
    "Ministry        PROPN\n",
    "of      ADP\n",
    "the     DET\n",
    "Interior        PROPN\n",
    "!       PUNCT\n",
    "\n",
    "The     DET\n",
    "MoI     PROPN\n",
    "in      ADP\n",
    "Iraq    PROPN\n",
    "is      AUX\n",
    "equivalent      ADJ\n",
    "to      ADP\n",
    "the     DET\n",
    "US      PROPN\n",
    "FBI     PROPN\n",
    ",       PUNCT\n",
    "so      ADV\n",
    "this    PRON\n",
    "would   AUX\n",
    "be      VERB\n",
    "like    SCONJ\n",
    "having  VERB\n",
    "J.      PROPN\n",
    "Edgar   PROPN\n",
    "Hoover  PROPN\n",
    "unwittingly     ADV\n",
    "employ  VERB\n",
    "at      ADP\n",
    "a       DET\n",
    "high    ADJ\n",
    "level   NOUN\n",
    "members NOUN\n",
    "of      ADP\n",
    "the     DET\n",
    "Weathermen      PROPN\n",
    "bombers NOUN\n",
    "back    ADV\n",
    "in      ADP\n",
    "the     DET\n",
    "1960s   NOUN\n",
    ".       PUNCT\n",
    "\n",
    "\n",
    "```"
   ]
  },
  {
   "cell_type": "code",
   "execution_count": 1,
   "metadata": {
    "collapsed": true
   },
   "outputs": [],
   "source": [
    "vocabs_word_path = \"data/vocabs.word\"\n",
    "vocabs_pos_path = \"data/vocabs.pos\"\n",
    "vocabs_label_path = \"data/vocabs.labels\"\n",
    "vocabs_action_path = \"data/vocabs.actions\"\n",
    "\n",
    "#create string to integer mapping (because neural network libraries work with integers)\n",
    "word_dict = {l.split(\" \")[0]:int(l.split(\" \")[1]) for l in open(vocabs_word_path, 'r').read().strip().split('\\n')}\n",
    "pos_dict = {l.split(\" \")[0]:int(l.split(\" \")[1]) for l in open(vocabs_pos_path, 'r').read().strip().split('\\n')}\n",
    "label_dict = {l.split(\" \")[0]:int(l.split(\" \")[1]) for l in open(vocabs_label_path, 'r').read().strip().split('\\n')}\n",
    "action_dict = {l.split(\" \")[0]:int(l.split(\" \")[1]) for l in open(vocabs_action_path, 'r').read().strip().split('\\n')}"
   ]
  },
  {
   "cell_type": "markdown",
   "metadata": {
    "slideshow": {
     "slide_type": "slide"
    }
   },
   "source": [
    "We define some auxiliary functions to access the words, tag feature and tag output"
   ]
  },
  {
   "cell_type": "code",
   "execution_count": 2,
   "metadata": {
    "collapsed": true,
    "slideshow": {
     "slide_type": "fragment"
    }
   },
   "outputs": [],
   "source": [
    "def actionid2action_str(id):\n",
    "    return actions[id]\n",
    "\n",
    "def action2id(action):\n",
    "    return action_dict[action]\n",
    "\n",
    "def label2id(label):\n",
    "    return label_dict[label]\n",
    "\n",
    "def pos2id(pos):\n",
    "    return pos_dict[pos] if pos in pos_dict else 999\n",
    "\n",
    "def word2id(word):\n",
    "    return word_dict[word] if word in word_dict else word_dict['<unk>']\n",
    "\n",
    "def num_words():\n",
    "    return len(word_dict)\n",
    "\n",
    "def num_pos():\n",
    "    return len(pos_dict)\n",
    "\n",
    "def num_labels():\n",
    "    return len(label_dict)\n",
    "\n",
    "def num_actions():\n",
    "    return len(action_dict)"
   ]
  },
  {
   "cell_type": "markdown",
   "metadata": {
    "slideshow": {
     "slide_type": "slide"
    }
   },
   "source": [
    "# Defining the network"
   ]
  },
  {
   "cell_type": "code",
   "execution_count": 3,
   "metadata": {
    "collapsed": true,
    "slideshow": {
     "slide_type": "fragment"
    }
   },
   "outputs": [],
   "source": [
    "#import necessary libraries\n",
    "%matplotlib inline\n",
    "import dynet\n",
    "import random\n",
    "import matplotlib.pyplot as plt\n",
    "import numpy as np\n",
    "import json"
   ]
  },
  {
   "cell_type": "markdown",
   "metadata": {
    "slideshow": {
     "slide_type": "slide"
    }
   },
   "source": [
    "Steps in deep network design\n",
    "1. Define the model (parameter container)\n",
    "2. Define updater (e.g. SGD or ADAM) and bound it to the model\n",
    "3. Define parameters (embeddings and other parameters)"
   ]
  },
  {
   "cell_type": "code",
   "execution_count": 4,
   "metadata": {
    "collapsed": true
   },
   "outputs": [],
   "source": [
    "# set values for the various parameters\n",
    "trainer = 'amsgrad' # {amsgrad, adam, rmsprop, adadelta, adagrad, momentumsgd}\n",
    "epochs = 10\n",
    "activation = 'rectify' # {rectify, tanh, logistic}\n",
    "word_embed_dim, pos_embed_dim, label_embed_dim = 96, 64, 64\n",
    "minibatch_size = 1000\n",
    "hidden1_dim, hidden2_dim = 500, 500\n",
    "dropout = 0.3\n",
    "model_path = \"trained_part7.model\"\n",
    "model_param = {\"trainer\":trainer,\n",
    "               \"epochs\":epochs,\n",
    "               \"activation\":activation,\n",
    "               \"word_embed_dim\":word_embed_dim,\n",
    "               \"pos_embed_dim\":pos_embed_dim,\n",
    "               \"label_embed_dim\":label_embed_dim,\n",
    "               \"minibatch_size\":minibatch_size,\n",
    "               \"hidden1_dim\":hidden1_dim,\n",
    "               \"hidden2_dim\":hidden2_dim}"
   ]
  },
  {
   "cell_type": "code",
   "execution_count": 5,
   "metadata": {
    "collapsed": true,
    "slideshow": {
     "slide_type": "fragment"
    }
   },
   "outputs": [],
   "source": [
    "# first initialize a computation graph container (or model).\n",
    "model = dynet.Model()\n",
    "\n",
    "#functions to save and load the network\n",
    "def load(filename):\n",
    "    model.populate(filename)\n",
    "\n",
    "def save(filename):\n",
    "    model.save(filename)\n",
    "\n",
    "# assign the algorithm for backpropagation updates.\n",
    "updater = {\"amsgrad\":dynet.AmsgradTrainer,\n",
    "           \"adam\":dynet.AdamTrainer,\n",
    "           \"rmsprop\":dynet.RMSPropTrainer,\n",
    "           \"adadelta\":dynet.AdadeltaTrainer,\n",
    "           \"adagrad\":dynet.AdagradTrainer, \n",
    "           \"momentumsgd\":dynet.MomentumSGDTrainer}[trainer](model)\n",
    "\n",
    "# assign transfer function\n",
    "transfer = {\"rectify\":dynet.rectify, \n",
    "            \"tanh\":dynet.tanh,\n",
    "            \"logistic\":dynet.logistic}[activation] \n",
    "\n",
    "# create embeddings for words, pos and label features.\n",
    "word_embedding = model.add_lookup_parameters((num_words(), word_embed_dim))\n",
    "pos_embedding = model.add_lookup_parameters((num_pos(), pos_embed_dim))\n",
    "label_embedding = model.add_lookup_parameters((num_labels(), label_embed_dim))"
   ]
  },
  {
   "cell_type": "code",
   "execution_count": 6,
   "metadata": {
    "collapsed": true,
    "slideshow": {
     "slide_type": "-"
    }
   },
   "outputs": [],
   "source": [
    "# define the input dimension for the embedding layer.\n",
    "# here we assume to see two words after and before and current word (meaning 5 word embeddings)\n",
    "# and to see the last two predicted tags (meaning two tag embeddings)\n",
    "input_dim = 20 * word_embed_dim + 20 * pos_embed_dim + 12 * label_embed_dim\n",
    "\n",
    "# define the hidden layer 1.\n",
    "hidden1_layer = model.add_parameters((hidden1_dim, input_dim))\n",
    "\n",
    "# define the hidden layer 1 bias term and initialize it as constant 0.01.\n",
    "hidden1_layer_bias = model.add_parameters(hidden1_dim, init=dynet.ConstInitializer(0.01))\n",
    "\n",
    "# define the hidden layer 2.\n",
    "hidden2_layer = model.add_parameters((hidden2_dim, hidden1_dim))\n",
    "\n",
    "# define the hidden layer 2 bias term and initialize it as constant 0.01.\n",
    "hidden2_layer_bias = model.add_parameters(hidden2_dim, init=dynet.ConstInitializer(0.01))\n",
    "\n",
    "# define the output weight.\n",
    "output_layer = model.add_parameters((num_actions(), hidden2_dim))\n",
    "\n",
    "# define the bias vector and initialize it as constant 0.01.\n",
    "output_bias = model.add_parameters(num_actions(), init=dynet.ConstInitializer(0.01))"
   ]
  },
  {
   "cell_type": "markdown",
   "metadata": {
    "slideshow": {
     "slide_type": "slide"
    }
   },
   "source": [
    "# Implementing the Forward function\n"
   ]
  },
  {
   "cell_type": "code",
   "execution_count": 7,
   "metadata": {
    "collapsed": true,
    "slideshow": {
     "slide_type": "fragment"
    }
   },
   "outputs": [],
   "source": [
    "def forward(features):\n",
    "    # extract word, pos and label ids\n",
    "    word_ids = [word2id(word) for word in features[0:20]]\n",
    "    pos_ids = [pos2id(pos) for pos in features[20:40]]\n",
    "    label_ids = [label2id(label) for label in features[40:52]]\n",
    "\n",
    "    # extract word embeddings and tag embeddings from features\n",
    "    word_embeds = [word_embedding[wid] for wid in word_ids]\n",
    "    pos_embeds = [pos_embedding[pid] if pid!=999 else dynet.zeros(pos_embed_dim) for pid in pos_ids]\n",
    "    label_embeds = [label_embedding[lid] for lid in label_ids]\n",
    "\n",
    "    # concatenating all features\n",
    "    embedding_layer = dynet.concatenate(word_embeds + pos_embeds + label_embeds)\n",
    "    if dropout != 0.0:\n",
    "        embedding_layer = dynet.dropout(embedding_layer, dropout)\n",
    "\n",
    "    # calculating the hidden layer 1\n",
    "    # .expr() converts a parameter to a matrix expression in dynetnet (its a dynetnet-specific syntax).\n",
    "    hidden1 = transfer(hidden1_layer.expr() * embedding_layer + hidden1_layer_bias.expr())\n",
    "    if dropout != 0.0:\n",
    "        hidden1 = dynet.dropout(hidden1, dropout)\n",
    "     # calculating the hidden layer 2\n",
    "    hidden2 = transfer(hidden2_layer.expr() * hidden1 + hidden1_layer_bias.expr())\n",
    "    if dropout != 0.0:\n",
    "        hidden2 = dynet.dropout(hidden2, dropout)\n",
    "\n",
    "    # calculating the output layer\n",
    "    output = output_layer.expr() * hidden2 + output_bias.expr()\n",
    "\n",
    "    # return a list of outputs\n",
    "    return output"
   ]
  },
  {
   "cell_type": "markdown",
   "metadata": {
    "slideshow": {
     "slide_type": "slide"
    }
   },
   "source": [
    "# Training with backpropagation"
   ]
  },
  {
   "cell_type": "markdown",
   "metadata": {
    "slideshow": {
     "slide_type": "slide"
    }
   },
   "source": [
    "## Reading the training data into a list"
   ]
  },
  {
   "cell_type": "code",
   "execution_count": 8,
   "metadata": {
    "collapsed": true,
    "slideshow": {
     "slide_type": "slide"
    }
   },
   "outputs": [],
   "source": [
    "train_data_path = 'data/train.data'\n",
    "train_data = open(train_data_path, 'r').read().strip().split('\\n')\n",
    "loss_values = []\n",
    "\n",
    "def train_iter(train_data):\n",
    "    losses = [] # minibatch loss vector\n",
    "    random.shuffle(train_data) # shuffle the training data.\n",
    "\n",
    "    for line in train_data:\n",
    "        fields = line.strip().split(' ')\n",
    "        features, label, gold_label = fields[:-1], fields[-1], action2id(fields[-1])\n",
    "        result = forward(features)\n",
    "\n",
    "        # getting loss with respect to negative log softmax function and the gold label; and appending to the minibatch losses.\n",
    "        loss = dynet.pickneglogsoftmax(result, gold_label)\n",
    "        losses.append(loss)\n",
    "\n",
    "        if len(losses) >= minibatch_size:\n",
    "            minibatch_loss = dynet.esum(losses) / len(losses) # now we have enough loss values to get loss for minibatch\n",
    "            minibatch_loss.forward() # calling dynetnet to run forward computation for all minibatch items\n",
    "            minibatch_loss_value = minibatch_loss.value() # getting float value of the loss for current minibatch\n",
    "\n",
    "            # printing info and plotting\n",
    "            loss_values.append(minibatch_loss_value)\n",
    "\n",
    "            #if len(loss_values)%10==0: plot(loss_values)\n",
    "\n",
    "            minibatch_loss.backward() # calling dynetnet to run backpropagation\n",
    "            updater.update() # calling dynet to change parameter values with respect to current backpropagation\n",
    "\n",
    "            # empty the loss vector and refresh the memory of dynetnet\n",
    "            losses = []\n",
    "            dynet.renew_cg()\n",
    "\n",
    "    dynet.renew_cg() # there are still some minibatch items in the memory but they are smaller than the minibatch size"
   ]
  },
  {
   "cell_type": "markdown",
   "metadata": {
    "slideshow": {
     "slide_type": "slide"
    }
   },
   "source": [
    "# Training epochs"
   ]
  },
  {
   "cell_type": "code",
   "execution_count": 9,
   "metadata": {
    "collapsed": true,
    "slideshow": {
     "slide_type": "fragment"
    }
   },
   "outputs": [],
   "source": [
    "def train_network():\n",
    "    for i in range(epochs):\n",
    "        print 'epoch', (i+1)\n",
    "        train_iter(train_data)\n",
    "        dynet.renew_cg()\n",
    "    print 'finished training!'"
   ]
  },
  {
   "cell_type": "code",
   "execution_count": 10,
   "metadata": {},
   "outputs": [
    {
     "name": "stdout",
     "output_type": "stream",
     "text": [
      "epoch 1\n",
      "epoch 2\n",
      "epoch 3\n",
      "epoch 4\n",
      "epoch 5\n",
      "epoch 6\n",
      "epoch 7\n",
      "epoch 8\n",
      "epoch 9\n",
      "epoch 10\n",
      "finished training!\n"
     ]
    }
   ],
   "source": [
    "train_network()"
   ]
  },
  {
   "cell_type": "code",
   "execution_count": 11,
   "metadata": {
    "scrolled": true
   },
   "outputs": [
    {
     "data": {
      "image/png": "[encoded data removed]",
      "text/plain": [
       "<matplotlib.figure.Figure at 0x113ba6d50>"
      ]
     },
     "metadata": {},
     "output_type": "display_data"
    }
   ],
   "source": [
    "ax = plt.gca()\n",
    "plt.title(\"Loss over time\")\n",
    "plt.xlabel(\"Minibatch\")\n",
    "plt.ylabel(\"Loss\")\n",
    "ax.set_xlim([0, len(loss_values)+10])\n",
    "ax.plot(loss_values)\n",
    "plt.draw()\n",
    "plt.show()"
   ]
  },
  {
   "cell_type": "code",
   "execution_count": 12,
   "metadata": {
    "collapsed": true
   },
   "outputs": [],
   "source": [
    "save(model_path)\n",
    "with open(model_path+\".json\", 'w') as fp:\n",
    "    json.dump(model_param, fp)"
   ]
  },
  {
   "cell_type": "markdown",
   "metadata": {
    "slideshow": {
     "slide_type": "slide"
    }
   },
   "source": [
    "# Parsing a file"
   ]
  },
  {
   "cell_type": "code",
   "execution_count": null,
   "metadata": {
    "collapsed": true,
    "slideshow": {
     "slide_type": "fragment"
    }
   },
   "outputs": [],
   "source": [
    "#implementing decoder\n",
    "def predict(features):\n",
    "    # running forward\n",
    "    output = forward(features)\n",
    "\n",
    "    # getting list value of the output\n",
    "    scores = output.npvalue()\n",
    "\n",
    "    # refresh dynet memory (computation graph)\n",
    "    dynet.renew_cg()\n",
    "    \n",
    "    # if returning best action, get best tag id, then get the string\n",
    "    best_action_id = np.argmax(scores)\n",
    "    return actionid2action_str(best_action_id)\n",
    "    \n",
    "    \"\"\"\n",
    "    # if returning the score only\n",
    "    return scores\n",
    "    \"\"\""
   ]
  },
  {
   "cell_type": "code",
   "execution_count": null,
   "metadata": {
    "collapsed": true
   },
   "outputs": [],
   "source": [
    "test_file = 'data/en.pos.dev'\n",
    "writer = open(test_file+'.output', 'w')\n",
    "for sentence in open(test_file, 'r'):\n",
    "    # get the features in a list by splitting the input by space/tab, excluding the last one\n",
    "    features = sentence.strip().split()[:-1]\n",
    "    action = predict(features)\n",
    "    output = \"\\t\".join(features+action)\n",
    "    writer.write('\\n'.join(output) + '\\n\\n')\n",
    "writer.close()"
   ]
  }
 ],
 "metadata": {
  "celltoolbar": "Slideshow",
  "kernelspec": {
   "display_name": "Python 2",
   "language": "python",
   "name": "python2"
  },
  "language_info": {
   "codemirror_mode": {
    "name": "ipython",
    "version": 2
   },
   "file_extension": ".py",
   "mimetype": "text/x-python",
   "name": "python",
   "nbconvert_exporter": "python",
   "pygments_lexer": "ipython2",
   "version": "2.7.14"
  }
 },
 "nbformat": 4,
 "nbformat_minor": 2
}
